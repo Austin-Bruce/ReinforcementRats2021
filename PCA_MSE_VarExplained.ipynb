{
  "nbformat": 4,
  "nbformat_minor": 0,
  "metadata": {
    "colab": {
      "name": "PCA_MSE_VarExplained.ipynb",
      "provenance": [],
      "collapsed_sections": []
    },
    "kernelspec": {
      "name": "python3",
      "display_name": "Python 3"
    },
    "language_info": {
      "name": "python"
    }
  },
  "cells": [
    {
      "cell_type": "code",
      "metadata": {
        "colab": {
          "base_uri": "https://localhost:8080/",
          "height": 246
        },
        "id": "tAqXyZzBjjxG",
        "outputId": "4e6777f3-bd82-4a51-8b23-5b09ca0b50db"
      },
      "source": [
        "##generating PCA for reconstruction error \n",
        "\n",
        "#print(np.shape(trainingData))\n",
        "from sklearn.decomposition import PCA\n",
        "\n",
        "# get it back into a numpy array \n",
        "trainingData_pca = trainingData.cpu().numpy()\n",
        "testData_pca = testData.cpu().numpy()\n",
        "\n",
        "##dimensions should be  time, trials, neurons\n",
        "a,b,c = np.shape(trainingData_pca)#\n",
        "trainingData_pca2d = trainingData_pca.reshape(-1, c)\n",
        "\n",
        "d,e,f = np.shape(testData_pca)#\n",
        "testData_pca2d = testData_pca.reshape(-1, f)\n",
        "#run PCA previously ran on training seta\n",
        "\n",
        "print(a,b,c,d,e,f)\n",
        "\n",
        "\n",
        "print(np.shape(trainingData_pca2d))\n",
        "print(np.shape(testData_pca2d))\n",
        "\n",
        "training_mse_list = []\n",
        "test_mse_list = []\n",
        "variance_explained_list = []\n",
        "count = 1\n",
        "params = [1,2,4,8,16,32,64] # your component list here\n",
        "\n",
        "\n",
        "for i in params:\n",
        "  pca_fit = PCA(n_components = i).fit(trainingData_pca2d)\n",
        "  # plt.plot(np.cumsum(pca_fit.explained_variance_ratio_))\n",
        "  # plt.title(f'PCA Variance Explained Ratio')  \n",
        "\n",
        "  ##reconstructing the training data using specifed parameters\n",
        "  training_transformed = pca_fit.transform(trainingData_pca2d)\n",
        "  training_inv_transformed = pca_fit.inverse_transform(training_transformed)\n",
        "  training_mse = np.sum((trainingData_pca2d - training_inv_transformed) ** 2, axis=1).mean()\n",
        "\n",
        "  #test set PCA\n",
        "  test_transformed = pca_fit.transform(testData_pca2d)\n",
        "  test_inv_transformed = pca_fit.inverse_transform(test_transformed)\n",
        "  test_mse = np.sum((testData_pca2d - test_inv_transformed) ** 2, axis=1).mean()\n",
        "\n",
        "  #plt.subplot(7, 1, count)\n",
        "  plt.plot(np.cumsum(pca_fit.explained_variance_ratio_))\n",
        "  plt.show()\n",
        "\n",
        "  training_mse_list.append(training_mse)\n",
        "  test_mse_list.append(test_mse)\n",
        "  variance_explained_list.append((np.cumsum(pca_fit.explained_variance_ratio_)))\n",
        "  count = count + 1"
      ],
      "execution_count": 1,
      "outputs": [
        {
          "output_type": "error",
          "ename": "NameError",
          "evalue": "ignored",
          "traceback": [
            "\u001b[0;31m---------------------------------------------------------------------------\u001b[0m",
            "\u001b[0;31mNameError\u001b[0m                                 Traceback (most recent call last)",
            "\u001b[0;32m<ipython-input-1-dfcd7459b103>\u001b[0m in \u001b[0;36m<module>\u001b[0;34m()\u001b[0m\n\u001b[1;32m      4\u001b[0m \u001b[0;32mfrom\u001b[0m \u001b[0msklearn\u001b[0m\u001b[0;34m.\u001b[0m\u001b[0mdecomposition\u001b[0m \u001b[0;32mimport\u001b[0m \u001b[0mPCA\u001b[0m\u001b[0;34m\u001b[0m\u001b[0;34m\u001b[0m\u001b[0m\n\u001b[1;32m      5\u001b[0m \u001b[0;31m# get data back into a numpy array\u001b[0m\u001b[0;34m\u001b[0m\u001b[0;34m\u001b[0m\u001b[0;34m\u001b[0m\u001b[0m\n\u001b[0;32m----> 6\u001b[0;31m \u001b[0mtrainingData_pca\u001b[0m \u001b[0;34m=\u001b[0m \u001b[0mtrainingData\u001b[0m\u001b[0;34m.\u001b[0m\u001b[0mcpu\u001b[0m\u001b[0;34m(\u001b[0m\u001b[0;34m)\u001b[0m\u001b[0;34m.\u001b[0m\u001b[0mnumpy\u001b[0m\u001b[0;34m(\u001b[0m\u001b[0;34m)\u001b[0m\u001b[0;34m\u001b[0m\u001b[0;34m\u001b[0m\u001b[0m\n\u001b[0m\u001b[1;32m      7\u001b[0m \u001b[0mtestData_pca\u001b[0m \u001b[0;34m=\u001b[0m \u001b[0mtestData\u001b[0m\u001b[0;34m.\u001b[0m\u001b[0mcpu\u001b[0m\u001b[0;34m(\u001b[0m\u001b[0;34m)\u001b[0m\u001b[0;34m.\u001b[0m\u001b[0mnumpy\u001b[0m\u001b[0;34m(\u001b[0m\u001b[0;34m)\u001b[0m\u001b[0;34m\u001b[0m\u001b[0;34m\u001b[0m\u001b[0m\n\u001b[1;32m      8\u001b[0m \u001b[0;34m\u001b[0m\u001b[0m\n",
            "\u001b[0;31mNameError\u001b[0m: name 'trainingData' is not defined"
          ]
        }
      ]
    }
  ]
}